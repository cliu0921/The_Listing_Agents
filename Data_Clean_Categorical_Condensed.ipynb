{
 "cells": [
  {
   "cell_type": "code",
   "execution_count": 104,
   "metadata": {},
   "outputs": [],
   "source": [
    "import pandas as pd\n",
    "import numpy as np\n"
   ]
  },
  {
   "cell_type": "code",
   "execution_count": 105,
   "metadata": {},
   "outputs": [],
   "source": [
    "homes = pd.read_csv('train.csv')"
   ]
  },
  {
   "cell_type": "code",
   "execution_count": 106,
   "metadata": {},
   "outputs": [],
   "source": [
    "ms_zone_cat = ['FV','RL']\n",
    "df_ms_zone_cat = pd.DataFrame(ms_zone_cat)\n",
    "df_ms_zone_cat['MS_Zoning_group'] = 'FV/ RL'\n",
    "df_ms_zone_cat = df_ms_zone_cat.rename(columns={0:'MSZoning'})\n",
    "homes = pd.merge(homes,df_ms_zone_cat,how='left',on= 'MSZoning')\n",
    "homes.MS_Zoning_group = homes.MS_Zoning_group.fillna('Other')"
   ]
  },
  {
   "cell_type": "code",
   "execution_count": 107,
   "metadata": {},
   "outputs": [],
   "source": [
    "homes = homes.drop(columns = ['Street'])"
   ]
  },
  {
   "cell_type": "code",
   "execution_count": 108,
   "metadata": {},
   "outputs": [],
   "source": [
    "lotshape_cat = ['Reg']\n",
    "df_lotshape_cat = pd.DataFrame(lotshape_cat)\n",
    "df_lotshape_cat['LotShape_group'] = 'Reg'\n",
    "df_lotshape_cat = df_lotshape_cat.rename(columns={0:'LotShape'})\n",
    "homes = pd.merge(homes,df_lotshape_cat, how = 'left', on = 'LotShape')\n",
    "homes.LotShape_group = homes.LotShape_group.fillna('Irregular')\n",
    "\n",
    "\n",
    "\n",
    "\n"
   ]
  },
  {
   "cell_type": "code",
   "execution_count": 109,
   "metadata": {},
   "outputs": [],
   "source": [
    "homes.Alley = homes.Alley.fillna('No_alley_access')"
   ]
  },
  {
   "cell_type": "code",
   "execution_count": 110,
   "metadata": {},
   "outputs": [],
   "source": [
    "landcontour_ = {'LandContour': ['Lvl','Bnk','HLS','Low'],'LandContour_group' : ['Lvl','Bnk','Other','Other']}\n",
    "df_landcontour_cat = pd.DataFrame(data= landcontour_)\n",
    "homes = pd.merge(homes,df_landcontour_cat, how = 'left', on = 'LandContour')\n",
    "\n",
    "\n",
    "\n",
    "\n",
    "\n"
   ]
  },
  {
   "cell_type": "code",
   "execution_count": 111,
   "metadata": {},
   "outputs": [],
   "source": [
    "homes = homes.drop(columns = ['Utilities'])"
   ]
  },
  {
   "cell_type": "code",
   "execution_count": 112,
   "metadata": {},
   "outputs": [],
   "source": [
    "lotconfig = ['CulDSac','FR2','FR3']\n",
    "df_lotconfig_cat = pd.DataFrame(lotconfig)\n",
    "df_lotconfig_cat['LotConfig_group'] = 'CulDSac/ FR'\n",
    "df_lotconfig_cat = df_lotconfig_cat.rename(columns={0:'LotConfig'})\n",
    "homes = pd.merge(homes, df_lotconfig_cat,how = 'left', on = 'LotConfig')\n",
    "homes.LotConfig_group = homes.LotConfig_group.fillna('Inside/Corner')"
   ]
  },
  {
   "cell_type": "code",
   "execution_count": 113,
   "metadata": {},
   "outputs": [],
   "source": [
    "condition1 = ['RRAe','Feedr','Artery']\n",
    "df_condition1_cat = pd.DataFrame(condition1)\n",
    "df_condition1_cat['Condition1_group'] = 'RRAe/Feedr/Artery'\n",
    "df_condition1_cat = df_condition1_cat.rename(columns={0:'Condition1'})\n",
    "homes = pd.merge(homes,df_condition1_cat, how = 'left', on = 'Condition1')\n",
    "homes.Condition1_group = homes.Condition1_group.fillna('Other')"
   ]
  },
  {
   "cell_type": "code",
   "execution_count": 114,
   "metadata": {},
   "outputs": [],
   "source": [
    "homes = homes.drop(columns = ['Condition2'])"
   ]
  },
  {
   "cell_type": "code",
   "execution_count": 115,
   "metadata": {},
   "outputs": [],
   "source": [
    "df_bldgtype_cat = pd.DataFrame(['1Fam','TwnhsE'])\n",
    "df_bldgtype_cat['BldgType_group'] = '1Fam/TwnhsE'\n",
    "df_bldgtype_cat = df_bldgtype_cat.rename(columns={0:'BldgType'})\n",
    "homes= pd.merge(homes,df_bldgtype_cat, how = 'left', on = 'BldgType')\n",
    "homes.BldgType_group=homes.BldgType_group.fillna('Duplex/Twnhs/2fmCon')"
   ]
  },
  {
   "cell_type": "code",
   "execution_count": 116,
   "metadata": {},
   "outputs": [],
   "source": [
    "housestyle_ = {'HouseStyle': ['2.5Fin','2Story','1Story','SLvl','2.5Unf','1.5Fin','SFoyer','1.5Unf'],'HouseStyle_group' : ['2.5Fin/2Story','2.5Fin/2Story','1Story/SLvl','1Story/SLvl','Other','Other','Other','Other']}\n",
    "df_housestyle_cat = pd.DataFrame(data= housestyle_)\n",
    "homes = pd.merge(homes, df_housestyle_cat, how = 'left', on = 'HouseStyle')\n",
    "\n"
   ]
  },
  {
   "cell_type": "code",
   "execution_count": 117,
   "metadata": {},
   "outputs": [],
   "source": [
    "homes = homes.drop(columns = ['RoofMatl'])"
   ]
  },
  {
   "cell_type": "code",
   "execution_count": 118,
   "metadata": {},
   "outputs": [],
   "source": [
    "roofstyle_ = {'RoofStyle': ['Shed','Flat','Hip','Mansard','Gable','Gambrel'],'RoofStyle_group' : ['Shed/Flat/Hip/Mansard','Shed/Flat/Hip/Mansard','Shed/Flat/Hip/Mansard','Shed/Flat/Hip/Mansard','Gable/Gambrel','Gable/Gambrel']}\n",
    "df_roofstyle_cat = pd.DataFrame(data= roofstyle_)\n",
    "homes = pd.merge(homes, df_roofstyle_cat, how = 'left', on = 'RoofStyle')\n",
    "\n"
   ]
  },
  {
   "cell_type": "code",
   "execution_count": 119,
   "metadata": {},
   "outputs": [],
   "source": [
    "df_Exterior1st_cat = pd.DataFrame(['ImStucc','Stone','CemntBd','VinylSd'])\n",
    "df_Exterior1st_cat['Exterior1st_group']= 'ImStucc/Stone/CemntBd/VinylSd'\n",
    "df_Exterior1st_cat = df_Exterior1st_cat.rename(columns={0:'Exterior1st'})\n",
    "homes= pd.merge(homes, df_Exterior1st_cat, how = 'left', on = 'Exterior1st')\n",
    "homes.Exterior1st_group = homes.Exterior1st_group.fillna('Other')"
   ]
  },
  {
   "cell_type": "code",
   "execution_count": 120,
   "metadata": {},
   "outputs": [],
   "source": [
    "df_Exterior2nd_cat1 = pd.DataFrame(['Other','CmentBd','VinylSd','ImStucc','Stone'])\n",
    "df_Exterior2nd_cat1['Exterior2nd_group']= 'Other/CmentBd/VinylSd/ImStucc/Stone'\n",
    "df_Exterior2nd_cat1 = df_Exterior2nd_cat1.rename(columns={0:'Exterior2nd'})\n",
    "df_Exterior2nd_cat2 = pd.DataFrame(['Plywood','BrkFace','HdBoard'])\n",
    "df_Exterior2nd_cat2['Exterior2nd_group']= 'Plywood/BrkFace/HdBoard'\n",
    "df_Exterior2nd_cat2 = df_Exterior2nd_cat2.rename(columns={0:'Exterior2nd'})\n",
    "df_Exterior2nd_cat = pd.concat([df_Exterior2nd_cat1,df_Exterior2nd_cat2])\n",
    "homes = pd.merge(homes, df_Exterior2nd_cat, how = 'left', on= 'Exterior2nd')\n",
    "homes.Exterior2nd_group = homes.Exterior2nd_group.fillna('Other')"
   ]
  },
  {
   "cell_type": "code",
   "execution_count": 121,
   "metadata": {},
   "outputs": [],
   "source": [
    "homes.MasVnrType =homes.MasVnrType.fillna('None')\n",
    "masvnrtype_ = {'MasVnrType': ['Stone','BrkFace','None','BrkCmn'],'MasVnrType_group' : ['Stone','BrkFace','None/BrkCmn','None/BrkCmn']}\n",
    "df_masvnrtype_cat = pd.DataFrame(data= masvnrtype_)\n",
    "homes = pd.merge(homes,df_masvnrtype_cat, how = 'left', on = 'MasVnrType')"
   ]
  },
  {
   "cell_type": "code",
   "execution_count": 122,
   "metadata": {},
   "outputs": [],
   "source": [
    "extercond_ = {'ExterCond': ['TA','Ex','Gd','Fa','Po'],'ExterCond_group' : ['TA/Ex','TA/Ex','Gd/Fa/Po','Gd/Fa/Po','Gd/Fa/Po']}\n",
    "df_extercond_cat = pd.DataFrame(data= extercond_)\n",
    "homes = pd.merge(homes, df_extercond_cat, how = 'left', on = 'ExterCond')"
   ]
  },
  {
   "cell_type": "code",
   "execution_count": 123,
   "metadata": {},
   "outputs": [],
   "source": [
    "foundation_ = {'Foundation': ['PConc','Wood','CBlock','Stone','BrkTil','Slab'],'Foundation_group' : ['PConc','Wood/CBlock','Wood/CBlock','Stone/BrkTil/Slab','Stone/BrkTil/Slab','Stone/BrkTil/Slab']}\n",
    "df_foundation_cat = pd.DataFrame(data= foundation_)\n",
    "homes = pd.merge(homes, df_foundation_cat, how = 'left', on = 'Foundation')\n"
   ]
  },
  {
   "cell_type": "code",
   "execution_count": 124,
   "metadata": {},
   "outputs": [],
   "source": [
    "homes.BsmtQual = homes.BsmtQual.fillna('No_basement')\n",
    "bsmtqual_ = {'BsmtQual': ['Ex','Gd','TA','Fa','No_basement'],'BsmtQual_group' : ['Ex/Gd','Ex/Gd','TA/Fa','TA/Fa','No_basement']}\n",
    "df_bsmtqual_cat = pd.DataFrame(data= bsmtqual_)\n",
    "homes = pd.merge(homes,df_bsmtqual_cat, how = 'left', on='BsmtQual')\n",
    "\n"
   ]
  },
  {
   "cell_type": "code",
   "execution_count": 125,
   "metadata": {},
   "outputs": [],
   "source": [
    "homes.BsmtCond = homes.BsmtCond.fillna('No_basement')\n",
    "bsmtcond_ = {'BsmtCond': ['Gd','TA','Fa','No_basement','Po'],'BsmtCond_group' : ['Basement_present','Basement_present','Basement_present','No_basement','Basement_present']}\n",
    "df_bsmtcond_cat = pd.DataFrame(data= bsmtcond_)\n",
    "homes = pd.merge(homes,df_bsmtcond_cat, how = 'left', on='BsmtCond')"
   ]
  },
  {
   "cell_type": "code",
   "execution_count": 126,
   "metadata": {},
   "outputs": [],
   "source": [
    "homes.BsmtExposure = homes.BsmtExposure.fillna('No_basement')\n"
   ]
  },
  {
   "cell_type": "code",
   "execution_count": 127,
   "metadata": {},
   "outputs": [],
   "source": [
    "homes.BsmtFinType1 = homes.BsmtFinType1.fillna('No_basement')\n"
   ]
  },
  {
   "cell_type": "code",
   "execution_count": 128,
   "metadata": {},
   "outputs": [],
   "source": [
    "homes.BsmtFinType2 = homes.BsmtFinType2.fillna('No_basement')\n"
   ]
  },
  {
   "cell_type": "code",
   "execution_count": 129,
   "metadata": {},
   "outputs": [],
   "source": [
    "homes = homes.drop(columns = ['Heating'])"
   ]
  },
  {
   "cell_type": "code",
   "execution_count": 130,
   "metadata": {},
   "outputs": [],
   "source": [
    "heatingqc_ = {'HeatingQC': ['Ex','Gd','TA','Fa','Po'],'HeatingQC_group' : ['Ex','Gd','TA','Fa/Po','Fa/Po']}\n",
    "df_heatingqc_cat = pd.DataFrame(data= heatingqc_)\n",
    "homes = pd.merge(homes, df_heatingqc_cat, how = 'left', on = 'HeatingQC')"
   ]
  },
  {
   "cell_type": "code",
   "execution_count": 131,
   "metadata": {},
   "outputs": [],
   "source": [
    "electrical_ = {'Electrical': ['SBrkr','FuseA','FuseF','FuseP','Mix'],'Electrical_group' : ['SBrkr','Other','Other','Other','Other']}\n",
    "df_electrical_cat = pd.DataFrame(data= electrical_)\n",
    "homes = pd.merge(homes, df_electrical_cat, how = 'left', on = 'Electrical')"
   ]
  },
  {
   "cell_type": "code",
   "execution_count": 132,
   "metadata": {},
   "outputs": [],
   "source": [
    "homes = homes.drop(columns = ['Functional'])"
   ]
  },
  {
   "cell_type": "code",
   "execution_count": 133,
   "metadata": {},
   "outputs": [],
   "source": [
    "homes.FireplaceQu = homes.FireplaceQu.fillna('No_fireplace')\n",
    "homes.GarageType = homes.GarageType.fillna('No_garage')\n",
    "homes.GarageFinish = homes.GarageFinish.fillna('No_garage')\n",
    "homes.GarageQual = homes.GarageQual.fillna('No_garage')\n"
   ]
  },
  {
   "cell_type": "code",
   "execution_count": 134,
   "metadata": {},
   "outputs": [],
   "source": [
    "homes.GarageCond = homes.GarageCond.fillna('No_garage')\n",
    "garagecond_ = {'GarageCond': ['TA','Gd','Ex','Fa','Po','No_garage'],'GarageCond_group' : ['Garage_present','Garage_present','Garage_present','Garage_present','Garage_present','No_garage']}\n",
    "df_garagecond_cat = pd.DataFrame(data= garagecond_)\n",
    "homes = pd.merge(homes,df_garagecond_cat,how='left',on='GarageCond')"
   ]
  },
  {
   "cell_type": "code",
   "execution_count": 135,
   "metadata": {},
   "outputs": [
    {
     "data": {
      "text/plain": [
       "array(['TA', 'Fa', 'No_garage', 'Gd', 'Po', 'Ex'], dtype=object)"
      ]
     },
     "execution_count": 135,
     "metadata": {},
     "output_type": "execute_result"
    }
   ],
   "source": [
    "homes.GarageCond.unique()"
   ]
  },
  {
   "cell_type": "code",
   "execution_count": 136,
   "metadata": {},
   "outputs": [],
   "source": [
    "homes.PoolQC =homes.PoolQC.fillna('No_pool')\n",
    "homes.Fence =homes.Fence.fillna('No_fence')"
   ]
  },
  {
   "cell_type": "code",
   "execution_count": 137,
   "metadata": {},
   "outputs": [],
   "source": [
    "homes = homes.drop(columns =['MiscFeature'])"
   ]
  },
  {
   "cell_type": "code",
   "execution_count": 138,
   "metadata": {},
   "outputs": [],
   "source": [
    "saletype_cat = ['New']\n",
    "df_saletype_cat = pd.DataFrame(saletype_cat)\n",
    "df_saletype_cat['SaleType_group'] = 'New'\n",
    "df_saletype_cat = df_saletype_cat.rename(columns={0:'SaleType'})\n",
    "homes = pd.merge(homes, df_saletype_cat, how = 'left', on='SaleType')\n",
    "homes.SaleType_group =homes.SaleType_group.fillna('Other')"
   ]
  },
  {
   "cell_type": "code",
   "execution_count": 139,
   "metadata": {},
   "outputs": [],
   "source": [
    "salecondition_ = {'SaleCondition': ['Partial','Normal','Alloca','Family','Abnorml','AdjLand'],'SaleCondition_group' : ['Parital','Normal/Alloca','Normal/Alloca','Family/Abnormal/AdjLand','Family/Abnormal/AdjLand','Family/Abnormal/AdjLand']}\n",
    "df_salecondition_cat = pd.DataFrame(data= salecondition_)\n",
    "homes = pd.merge(homes,df_salecondition_cat,how='left',on='SaleCondition')"
   ]
  },
  {
   "cell_type": "code",
   "execution_count": 140,
   "metadata": {},
   "outputs": [],
   "source": [
    "homes = homes.drop(columns = ['MSZoning','LotShape','LandContour','LotConfig','Condition1','BldgType','HouseStyle','RoofStyle',\n",
    "                               'Exterior1st','Exterior2nd','MasVnrType','ExterCond','Foundation','BsmtCond','BsmtQual','HeatingQC',\n",
    "                               'Electrical','GarageCond','SaleType','SaleCondition'])"
   ]
  },
  {
   "cell_type": "code",
   "execution_count": null,
   "metadata": {},
   "outputs": [],
   "source": []
  },
  {
   "cell_type": "code",
   "execution_count": 141,
   "metadata": {},
   "outputs": [],
   "source": [
    "homes.to_csv('homes_grouping_test.csv')"
   ]
  },
  {
   "cell_type": "code",
   "execution_count": null,
   "metadata": {},
   "outputs": [],
   "source": []
  },
  {
   "cell_type": "code",
   "execution_count": null,
   "metadata": {},
   "outputs": [],
   "source": []
  }
 ],
 "metadata": {
  "kernelspec": {
   "display_name": "Python 3",
   "language": "python",
   "name": "python3"
  },
  "language_info": {
   "codemirror_mode": {
    "name": "ipython",
    "version": 3
   },
   "file_extension": ".py",
   "mimetype": "text/x-python",
   "name": "python",
   "nbconvert_exporter": "python",
   "pygments_lexer": "ipython3",
   "version": "3.7.6"
  }
 },
 "nbformat": 4,
 "nbformat_minor": 4
}
